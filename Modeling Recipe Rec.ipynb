{
 "cells": [
  {
   "cell_type": "markdown",
   "id": "03420a26-284f-4c5f-99fd-64dfa6f58c27",
   "metadata": {},
   "source": [
    "# Part 4: Modeling"
   ]
  },
  {
   "cell_type": "code",
   "execution_count": 1,
   "id": "50e77c7e-1412-40ee-ab74-d7c8d110d429",
   "metadata": {},
   "outputs": [],
   "source": [
    "import pandas as pd\n",
    "\n",
    "from gensim.models.word2vec import Word2Vec\n",
    "\n",
    "import numpy as np\n",
    "\n",
    "from sklearn.metrics.pairwise import pairwise_distances, cosine_distances, cosine_similarity\n",
    "\n",
    "from scipy import sparse\n",
    "\n",
    "import re\n",
    "\n",
    "import pickle"
   ]
  },
  {
   "cell_type": "code",
   "execution_count": 1,
   "id": "3aeea586-f99e-4e95-a4f4-823f05f87c2e",
   "metadata": {},
   "outputs": [],
   "source": [
    "#Class inspired by Jack Leitch\n",
    "class MeanEmbeddingVectorizer(object):\n",
    "\n",
    "\n",
    "    def __init__(self, model):\n",
    "\n",
    "        self.model = model\n",
    "        self.vector_size = model.vector_size\n",
    "\n",
    "    def fit(self):\n",
    "        return self\n",
    "\n",
    "    def transform(self,docs):\n",
    "\n",
    "        doc_word_vector = self.doc_average_list(docs)\n",
    "        return doc_word_vector\n",
    "\n",
    "    def doc_average(self, doc):\n",
    "\n",
    "        mean = []\n",
    "\n",
    "        for word in doc:\n",
    "            if word in self.model.wv.index_to_key:\n",
    "                mean.append(self.model.wv.get_vector(word))\n",
    "\n",
    "        if not mean:\n",
    "                return np.zeros(self.vector_size)\n",
    "        else:\n",
    "            mean = np.array(mean).mean(axis = 0)\n",
    "            return mean\n",
    "\n",
    "    def doc_average_list(self,docs):\n",
    "\n",
    "        return np.vstack([self.doc_average(doc) for doc in docs])\n"
   ]
  },
  {
   "cell_type": "markdown",
   "id": "846438da-e395-4ca3-b74d-eac4348e3414",
   "metadata": {},
   "source": [
   ]
  },
  {
   "cell_type": "code",
   "execution_count": 3,
   "id": "d461edba-1041-4568-941d-6cc2a51569e6",
   "metadata": {},
   "outputs": [
    {
     "name": "stderr",
     "output_type": "stream",
     "text": [
      "/Users/ajk/opt/anaconda3/lib/python3.8/site-packages/numpy/lib/arraysetops.py:583: FutureWarning: elementwise comparison failed; returning scalar instead, but in the future will perform elementwise comparison\n",
      "  mask |= (ar1 == a)\n"
     ]
    }
   ],
   "source": [
    "df = pd.read_csv('recipe_cleaned_spacy2.csv',index_col=0)"
   ]
  },
  {
   "cell_type": "code",
   "execution_count": 4,
   "id": "d74be1c5-3c61-420a-9268-a9180825c43a",
   "metadata": {},
   "outputs": [],
   "source": [
    "df.dropna(inplace = True)\n",
    "df.reset_index(inplace = True)\n",
    "df.drop(columns = ['index'], inplace = True)"
   ]
  },
  {
   "cell_type": "code",
   "execution_count": 5,
   "id": "2c647db6-a1f9-436e-bf3a-e29c523e29d1",
   "metadata": {},
   "outputs": [],
   "source": [
    "df.drop(columns = ['level_0'],inplace = True)"
   ]
  },
  {
   "cell_type": "markdown",
   "id": "8b0260ec-a481-422e-b482-905f9ba12819",
   "metadata": {},
   "source": [
    "##### Annotation:\n",
    "This model above trains over 1 million recipes. It is the main model utilized to address the problem statement of this investigation. With that said, because the objective is to design a web app, I want to give the option of having faster results, therefore I made 3 models. The first model trains over 1 million recipes and gives the best recommendations. The second model trains on 500,00 recipes, and the third model trains on 100,000 recipes. It was seen on the web app that the first model takes over 3 minutes to output results. The second model takes about 1 minutes 45 seconds to output results. Finally the third model take about 30 seconds to output results. I believe that giving these options to users will facilitate the use of the app and make the overall experience more enjoyable. "
   ]
  },
  {
   "cell_type": "markdown",
   "id": "30c810e5-b730-4f16-af23-0552dd5a64cf",
   "metadata": {},
   "source": [
    "##### Model Hyperparameters: \n",
    " - SG: It was observed that using skip-gram (sg = 1) was much more optimal than using a c-bow model (sg = 0)\n",
    " - Window: A value of 8 was chosen for this hyper-parameter because it was observed that the recommendations outputted were much more appropriate than using a smaller or bigger value. It was observed that using a larger value made recommendation too broad and a smaller value made recommendations too specific. After training the model several times, it was observed that a value of 8 was the most optimal hyper-parameter.\n",
    " - Min Count: It was intuitive to ignore all words that were not presently frequent more than once.\n",
    " - Workers: A value of 8 was used to train the model more rapidly. "
   ]
  },
  {
   "cell_type": "markdown",
   "id": "bf56a539-1481-4196-b5a2-f2df44144ebd",
   "metadata": {},
   "source": [
    "### Model 1\n"
   ]
  },
  {
   "cell_type": "code",
   "execution_count": 50,
   "id": "f916120d-fd59-48ed-a68e-c9383773bcbb",
   "metadata": {},
   "outputs": [],
   "source": [
    "corpus1 = [i.split(', ') for i in df['raw_ingredients']]"
   ]
  },
  {
   "cell_type": "code",
   "execution_count": 51,
   "id": "020e6e52-14d6-4c8f-86d9-0971120570e8",
   "metadata": {},
   "outputs": [],
   "source": [
    "model1 = Word2Vec(sentences=corpus1, sg = 1, window=8, min_count=1, workers=8, seed = 42)"
   ]
  },
  {
   "cell_type": "code",
   "execution_count": 104,
   "id": "635edc38-dfe4-48c0-bc23-4e628f8c2528",
   "metadata": {},
   "outputs": [],
   "source": [
    "# saving model\n",
    "#pickle.dump(model1, open('Trained_Word2Vec_Model.pkl', 'wb'))"
   ]
  },
  {
   "cell_type": "code",
   "execution_count": 93,
   "id": "12da30c9-5182-45f1-a8f2-f567cc01cb65",
   "metadata": {},
   "outputs": [],
   "source": [
    "mev_model = MeanEmbeddingVectorizer(model1)"
   ]
  },
  {
   "cell_type": "code",
   "execution_count": 94,
   "id": "a4c9140c-a3b4-4470-8629-dc306fcec05c",
   "metadata": {
    "tags": []
   },
   "outputs": [
    {
     "data": {
      "text/plain": [
       "1095610"
      ]
     },
     "execution_count": 94,
     "metadata": {},
     "output_type": "execute_result"
    }
   ],
   "source": [
    "recipes = mev_model.transform(corpus1)\n",
    "recipes = [recipe.reshape(1, -1) for recipe in recipes]\n",
    "len(recipes)"
   ]
  },
  {
   "cell_type": "code",
   "execution_count": 105,
   "id": "f24ed7fa-cce4-4f1e-a060-8c0d3053ac35",
   "metadata": {},
   "outputs": [],
   "source": [
    "#Saving trained recipes\n",
    "#pickle.dump(recipes, open('Trained_Recipes.pkl', 'wb'))"
   ]
  },
  {
   "cell_type": "code",
   "execution_count": 106,
   "id": "ae371a07-7d86-48ce-8007-4e1b68cb35e2",
   "metadata": {},
   "outputs": [],
   "source": [
    "# Input ingredients here:\n",
    "ingredients = ['garlic']"
   ]
  },
  {
   "cell_type": "code",
   "execution_count": 107,
   "id": "54fa3868-5444-4f38-b853-7886f1b99b77",
   "metadata": {
    "collapsed": true,
    "jupyter": {
     "outputs_hidden": true
    },
    "tags": []
   },
   "outputs": [
    {
     "data": {
      "text/plain": [
       "array([[ 0.5838497 , -0.13494323, -0.3777168 ,  0.22974521, -0.17235155,\n",
       "         0.612447  ,  0.1079702 ,  0.31237742,  0.1376416 , -0.23954038,\n",
       "        -0.7165192 ,  0.3355758 , -0.44837242,  0.39962763,  0.05851945,\n",
       "        -0.2554324 ,  0.36359704, -0.16568245, -0.59909034, -0.2211798 ,\n",
       "        -0.23983523,  0.20817852,  0.6178698 ,  0.36052775,  0.32834893,\n",
       "         0.15039438, -0.08724194,  0.5564775 , -0.11186665, -0.25103796,\n",
       "        -0.32387325,  0.015442  ,  0.11832143,  0.11494556, -0.25509137,\n",
       "        -0.40199208,  0.59099567,  0.04025366, -0.03242267, -0.01610409,\n",
       "         0.37565672,  0.12011106,  0.6788713 , -0.00665618, -0.09390499,\n",
       "         0.1276626 , -0.09634619,  0.17009056,  0.35540503, -0.3561705 ,\n",
       "        -0.2783841 , -0.54009384, -0.32537788,  0.16948396,  0.20173383,\n",
       "         0.0307413 , -0.16080798,  0.3946266 , -0.2023036 ,  0.03321686,\n",
       "         0.11943647,  0.01040315, -0.0026666 ,  0.14515261, -0.3206344 ,\n",
       "         0.20001465, -0.20309588, -0.28382602, -0.39996868, -0.1749413 ,\n",
       "         0.17870201,  0.11316101, -0.10319634, -0.21777159, -0.14740808,\n",
       "        -0.20171016,  0.13124818, -0.26130086,  0.00763032,  0.15185821,\n",
       "         0.02657855, -0.02315943, -0.1957098 ,  0.19102979, -0.80895793,\n",
       "         0.2608194 , -0.06587247, -0.23239687, -0.5223108 ,  0.3246439 ,\n",
       "        -0.28725043,  0.43372533, -0.16647248, -0.50813663,  0.11618266,\n",
       "        -0.38206804,  0.01879349, -0.06003927, -0.527591  , -0.01627711]],\n",
       "      dtype=float32)"
      ]
     },
     "execution_count": 107,
     "metadata": {},
     "output_type": "execute_result"
    }
   ],
   "source": [
    "ingredients_vec = mev_model.doc_average(ingredients)\n",
    "ingredients_vec = ingredients_vec.reshape(1,-1)\n",
    "ingredients_vec"
   ]
  },
  {
   "cell_type": "code",
   "execution_count": 100,
   "id": "5c2828e8-432c-4884-bc43-115b68b70e8a",
   "metadata": {
    "collapsed": true,
    "jupyter": {
     "outputs_hidden": true
    },
    "tags": []
   },
   "outputs": [
    {
     "data": {
      "text/html": [
       "<div>\n",
       "<style scoped>\n",
       "    .dataframe tbody tr th:only-of-type {\n",
       "        vertical-align: middle;\n",
       "    }\n",
       "\n",
       "    .dataframe tbody tr th {\n",
       "        vertical-align: top;\n",
       "    }\n",
       "\n",
       "    .dataframe thead th {\n",
       "        text-align: right;\n",
       "    }\n",
       "</style>\n",
       "<table border=\"1\" class=\"dataframe\">\n",
       "  <thead>\n",
       "    <tr style=\"text-align: right;\">\n",
       "      <th></th>\n",
       "      <th>Cosine Similarity</th>\n",
       "      <th>title</th>\n",
       "      <th>raw_ingredients</th>\n",
       "      <th>directions</th>\n",
       "    </tr>\n",
       "  </thead>\n",
       "  <tbody>\n",
       "    <tr>\n",
       "      <th>79093</th>\n",
       "      <td>0.944944</td>\n",
       "      <td>Fish Stew</td>\n",
       "      <td>fish, bacon, onion, tomato, potato, , salt, sh...</td>\n",
       "      <td>Cook diced bacon and onion until sauteed., Add...</td>\n",
       "    </tr>\n",
       "    <tr>\n",
       "      <th>594551</th>\n",
       "      <td>0.939401</td>\n",
       "      <td>Fisherman'S Catch Chowder</td>\n",
       "      <td>fish, onion, celery, carrot, parsley, tomato, ...</td>\n",
       "      <td>Cut cleaned fish into 1-inch pieces., Add all ...</td>\n",
       "    </tr>\n",
       "    <tr>\n",
       "      <th>391224</th>\n",
       "      <td>0.938600</td>\n",
       "      <td>Fish Stew</td>\n",
       "      <td>fish, bacon, onion, potato, tomato, salt, pepp...</td>\n",
       "      <td>Parboil fish in water; lift fish out to cool.,...</td>\n",
       "    </tr>\n",
       "    <tr>\n",
       "      <th>1021029</th>\n",
       "      <td>0.937461</td>\n",
       "      <td>Fish Hash</td>\n",
       "      <td>fish, potato, onion, egg, salt, pepper</td>\n",
       "      <td>Combine all the ingredients and fry in bacon f...</td>\n",
       "    </tr>\n",
       "    <tr>\n",
       "      <th>687029</th>\n",
       "      <td>0.937461</td>\n",
       "      <td>Old Fashion Fish Cakes</td>\n",
       "      <td>fish, potato, pepper, salt, egg, onion</td>\n",
       "      <td>Mix all ingredients., Shape into cakes., Bake ...</td>\n",
       "    </tr>\n",
       "    <tr>\n",
       "      <th>596712</th>\n",
       "      <td>0.937304</td>\n",
       "      <td>Joe'S Fish Chowder</td>\n",
       "      <td>fish fillet, water, potato, onion, potato, tom...</td>\n",
       "      <td>Boil fish fillet in water for 5 minutes., Then...</td>\n",
       "    </tr>\n",
       "    <tr>\n",
       "      <th>258725</th>\n",
       "      <td>0.936167</td>\n",
       "      <td>Catfish Chowder</td>\n",
       "      <td>fish, potato, onion, pepper, salt, butter, tomato</td>\n",
       "      <td>Boil catfish until tender;, take, out all bone...</td>\n",
       "    </tr>\n",
       "    <tr>\n",
       "      <th>30060</th>\n",
       "      <td>0.933504</td>\n",
       "      <td>Fish Cakes Oven Baked Or Fried</td>\n",
       "      <td>fish, onion, bacon fat, salt, egg, potato, , b...</td>\n",
       "      <td>Separate fish into small flakes., Cook onion i...</td>\n",
       "    </tr>\n",
       "    <tr>\n",
       "      <th>693500</th>\n",
       "      <td>0.932722</td>\n",
       "      <td>Baked Fish</td>\n",
       "      <td>fish, salt, oil, tomato, celery, onion, garlic...</td>\n",
       "      <td>Wash fish, add salt and pepper and rub with le...</td>\n",
       "    </tr>\n",
       "    <tr>\n",
       "      <th>761532</th>\n",
       "      <td>0.932653</td>\n",
       "      <td>Fish Cakes</td>\n",
       "      <td>potato, fish, italian good season, egg, flour</td>\n",
       "      <td>Mix, first, 4 ingredients well., Pat out 3-oun...</td>\n",
       "    </tr>\n",
       "    <tr>\n",
       "      <th>1017376</th>\n",
       "      <td>0.932058</td>\n",
       "      <td>Dubliner Flat Omelette</td>\n",
       "      <td>egg, potato, dubliner cheese, shrimp, chive, k...</td>\n",
       "      <td>Chop the tomato into small cubes,., Beat the e...</td>\n",
       "    </tr>\n",
       "    <tr>\n",
       "      <th>10580</th>\n",
       "      <td>0.931960</td>\n",
       "      <td>Fish Chowder</td>\n",
       "      <td>fish, potato, celery, bay leaf, salt, garlic, ...</td>\n",
       "      <td>Cut skinned and boned fish into 1 1/2 to 2-inc...</td>\n",
       "    </tr>\n",
       "    <tr>\n",
       "      <th>684404</th>\n",
       "      <td>0.931696</td>\n",
       "      <td>Fish Pie</td>\n",
       "      <td>butter, onion, fish, egg, tomato, salt, pepper...</td>\n",
       "      <td>Take 1 tablespoon butter off and put in skille...</td>\n",
       "    </tr>\n",
       "    <tr>\n",
       "      <th>844496</th>\n",
       "      <td>0.931122</td>\n",
       "      <td>Baked Fish Chowder</td>\n",
       "      <td>haddock, baking potato,  garlic, celery, onion...</td>\n",
       "      <td>Preheat oven to 350\\u00b0., Arrange clean fish...</td>\n",
       "    </tr>\n",
       "    <tr>\n",
       "      <th>693921</th>\n",
       "      <td>0.930861</td>\n",
       "      <td>Baked Fish In The Microwave</td>\n",
       "      <td>fish fillet, potato, tomato, oil, onion, salt</td>\n",
       "      <td>In a square microwave pan, layer onions and po...</td>\n",
       "    </tr>\n",
       "    <tr>\n",
       "      <th>1080904</th>\n",
       "      <td>0.930414</td>\n",
       "      <td>Weight Watchers Manhattan Clam Chowdah</td>\n",
       "      <td>clam, celery, green pepper, carrot, potato, to...</td>\n",
       "      <td>Place reserved clam juice in a liquid measurin...</td>\n",
       "    </tr>\n",
       "    <tr>\n",
       "      <th>970109</th>\n",
       "      <td>0.928223</td>\n",
       "      <td>Fish Burgers With Fresh Herbs</td>\n",
       "      <td>onion,  wine, haddock, potato, tarragon, salt,...</td>\n",
       "      <td>Put the onion in a large frying pan and pour i...</td>\n",
       "    </tr>\n",
       "    <tr>\n",
       "      <th>418561</th>\n",
       "      <td>0.928034</td>\n",
       "      <td>Fish Chowder</td>\n",
       "      <td>fish, potato, onion, butter, celery, salt, , d...</td>\n",
       "      <td>Saute onion in butter., Place all ingredients ...</td>\n",
       "    </tr>\n",
       "    <tr>\n",
       "      <th>480724</th>\n",
       "      <td>0.927049</td>\n",
       "      <td>Baked Fish Chowder</td>\n",
       "      <td>haddock, potato, celery, bay leaf, salt, , oni...</td>\n",
       "      <td>Use fresh or frozen fish (if frozen, put in th...</td>\n",
       "    </tr>\n",
       "    <tr>\n",
       "      <th>884767</th>\n",
       "      <td>0.926647</td>\n",
       "      <td>Fish Cakes</td>\n",
       "      <td>fish, potato, egg, salt, thyme, parsley, itali...</td>\n",
       "      <td>Poach fish until flaky., Drain off water until...</td>\n",
       "    </tr>\n",
       "  </tbody>\n",
       "</table>\n",
       "</div>"
      ],
      "text/plain": [
       "         Cosine Similarity                                   title  \\\n",
       "79093             0.944944                               Fish Stew   \n",
       "594551            0.939401               Fisherman'S Catch Chowder   \n",
       "391224            0.938600                               Fish Stew   \n",
       "1021029           0.937461                               Fish Hash   \n",
       "687029            0.937461                  Old Fashion Fish Cakes   \n",
       "596712            0.937304                      Joe'S Fish Chowder   \n",
       "258725            0.936167                         Catfish Chowder   \n",
       "30060             0.933504          Fish Cakes Oven Baked Or Fried   \n",
       "693500            0.932722                              Baked Fish   \n",
       "761532            0.932653                              Fish Cakes   \n",
       "1017376           0.932058                  Dubliner Flat Omelette   \n",
       "10580             0.931960                            Fish Chowder   \n",
       "684404            0.931696                                Fish Pie   \n",
       "844496            0.931122                      Baked Fish Chowder   \n",
       "693921            0.930861             Baked Fish In The Microwave   \n",
       "1080904           0.930414  Weight Watchers Manhattan Clam Chowdah   \n",
       "970109            0.928223           Fish Burgers With Fresh Herbs   \n",
       "418561            0.928034                            Fish Chowder   \n",
       "480724            0.927049                      Baked Fish Chowder   \n",
       "884767            0.926647                              Fish Cakes   \n",
       "\n",
       "                                           raw_ingredients  \\\n",
       "79093    fish, bacon, onion, tomato, potato, , salt, sh...   \n",
       "594551   fish, onion, celery, carrot, parsley, tomato, ...   \n",
       "391224   fish, bacon, onion, potato, tomato, salt, pepp...   \n",
       "1021029             fish, potato, onion, egg, salt, pepper   \n",
       "687029              fish, potato, pepper, salt, egg, onion   \n",
       "596712   fish fillet, water, potato, onion, potato, tom...   \n",
       "258725   fish, potato, onion, pepper, salt, butter, tomato   \n",
       "30060    fish, onion, bacon fat, salt, egg, potato, , b...   \n",
       "693500   fish, salt, oil, tomato, celery, onion, garlic...   \n",
       "761532       potato, fish, italian good season, egg, flour   \n",
       "1017376  egg, potato, dubliner cheese, shrimp, chive, k...   \n",
       "10580    fish, potato, celery, bay leaf, salt, garlic, ...   \n",
       "684404   butter, onion, fish, egg, tomato, salt, pepper...   \n",
       "844496   haddock, baking potato,  garlic, celery, onion...   \n",
       "693921       fish fillet, potato, tomato, oil, onion, salt   \n",
       "1080904  clam, celery, green pepper, carrot, potato, to...   \n",
       "970109   onion,  wine, haddock, potato, tarragon, salt,...   \n",
       "418561   fish, potato, onion, butter, celery, salt, , d...   \n",
       "480724   haddock, potato, celery, bay leaf, salt, , oni...   \n",
       "884767   fish, potato, egg, salt, thyme, parsley, itali...   \n",
       "\n",
       "                                                directions  \n",
       "79093    Cook diced bacon and onion until sauteed., Add...  \n",
       "594551   Cut cleaned fish into 1-inch pieces., Add all ...  \n",
       "391224   Parboil fish in water; lift fish out to cool.,...  \n",
       "1021029  Combine all the ingredients and fry in bacon f...  \n",
       "687029   Mix all ingredients., Shape into cakes., Bake ...  \n",
       "596712   Boil fish fillet in water for 5 minutes., Then...  \n",
       "258725   Boil catfish until tender;, take, out all bone...  \n",
       "30060    Separate fish into small flakes., Cook onion i...  \n",
       "693500   Wash fish, add salt and pepper and rub with le...  \n",
       "761532   Mix, first, 4 ingredients well., Pat out 3-oun...  \n",
       "1017376  Chop the tomato into small cubes,., Beat the e...  \n",
       "10580    Cut skinned and boned fish into 1 1/2 to 2-inc...  \n",
       "684404   Take 1 tablespoon butter off and put in skille...  \n",
       "844496   Preheat oven to 350\\u00b0., Arrange clean fish...  \n",
       "693921   In a square microwave pan, layer onions and po...  \n",
       "1080904  Place reserved clam juice in a liquid measurin...  \n",
       "970109   Put the onion in a large frying pan and pour i...  \n",
       "418561   Saute onion in butter., Place all ingredients ...  \n",
       "480724   Use fresh or frozen fish (if frozen, put in th...  \n",
       "884767   Poach fish until flaky., Drain off water until...  "
      ]
     },
     "execution_count": 100,
     "metadata": {},
     "output_type": "execute_result"
    }
   ],
   "source": [
    "similarities = list(map(lambda x: cosine_similarity(ingredients_vec, x)[0][0],recipes))\n",
    "\n",
    "\n",
    "df_recommendation  = df\n",
    "df_recommendation['Cosine Similarity'] = similarities\n",
    "df_recommendation= df_recommendation[['Cosine Similarity', 'title','raw_ingredients','directions']]\n",
    "df_recommendation.rename(columns = {'title':'Recipe Name', 'raw_ingredients': 'Ingredients','directions':'Directions'})\n",
    "df_recommendation.sort_values(by = 'Cosine Similarity', ascending = False)[:20]"
   ]
  },
  {
   "cell_type": "markdown",
   "id": "e9e00013-88d6-4a58-873a-9546ca62197f",
   "metadata": {},
   "source": [
    "### Model 2\n",
    "Making a model that train over a smaller data frame. As a result, the model will get faster results. This will be practical for the web app."
   ]
  },
  {
   "cell_type": "code",
   "execution_count": 113,
   "id": "96c55450-c427-4725-a9f0-30a082cd8686",
   "metadata": {
    "tags": []
   },
   "outputs": [],
   "source": [
    "df2 = df[:100000]"
   ]
  },
  {
   "cell_type": "code",
   "execution_count": 114,
   "id": "38f339cf-6d6f-41a4-99fe-a9e82c493275",
   "metadata": {},
   "outputs": [],
   "source": [
    "corpus2 = [i.split(', ') for i in df2['raw_ingredients']]"
   ]
  },
  {
   "cell_type": "code",
   "execution_count": 115,
   "id": "0c4fe5be-fd96-4f74-be2a-ddc7d4a4e17f",
   "metadata": {},
   "outputs": [],
   "source": [
    "model2 = Word2Vec(sentences=corpus2, sg = 1, window=8, min_count=1, workers=8, seed = 42)"
   ]
  },
  {
   "cell_type": "code",
   "execution_count": 118,
   "id": "64669d4a-442d-4675-b7bc-1fe811e3736e",
   "metadata": {},
   "outputs": [],
   "source": [
    "# saving model\n",
    "#pickle.dump(model2, open('Trained_Word2Vec_Model2.pkl', 'wb'))"
   ]
  },
  {
   "cell_type": "code",
   "execution_count": 116,
   "id": "653d83d0-6d71-4675-acd6-af16529b3897",
   "metadata": {},
   "outputs": [],
   "source": [
    "mev_model2 = MeanEmbeddingVectorizer(model2)"
   ]
  },
  {
   "cell_type": "code",
   "execution_count": 117,
   "id": "f6914014-b783-43bb-a665-f12b9f6ca95b",
   "metadata": {},
   "outputs": [
    {
     "data": {
      "text/plain": [
       "100000"
      ]
     },
     "execution_count": 117,
     "metadata": {},
     "output_type": "execute_result"
    }
   ],
   "source": [
    "recipes2 = mev_model2.transform(corpus2)\n",
    "recipes2 = [recipe.reshape(1, -1) for recipe in recipes2]\n",
    "len(recipes2)"
   ]
  },
  {
   "cell_type": "code",
   "execution_count": 119,
   "id": "e7417317-1a09-4fe2-a2b7-006abf9513a3",
   "metadata": {},
   "outputs": [],
   "source": [
    "#Saving trained recipes\n",
    "#pickle.dump(recipes2, open('Trained_Recipes2.pkl', 'wb'))"
   ]
  },
  {
   "cell_type": "markdown",
   "id": "d5b006c4-3764-4461-b274-14b99f02a020",
   "metadata": {},
   "source": [
    "### Model 3"
   ]
  },
  {
   "cell_type": "code",
   "execution_count": 120,
   "id": "2568af21-e92f-4fff-a1b4-9d1cf7b9d420",
   "metadata": {},
   "outputs": [],
   "source": [
    "df3 = df[:500000]"
   ]
  },
  {
   "cell_type": "code",
   "execution_count": 121,
   "id": "f6e54abb-6d5c-47b9-939b-29a4625991a0",
   "metadata": {},
   "outputs": [],
   "source": [
    "corpus3 = [i.split(', ') for i in df3['raw_ingredients']]"
   ]
  },
  {
   "cell_type": "code",
   "execution_count": 123,
   "id": "df9daf45-1f1b-4148-b011-bb6035a88fed",
   "metadata": {},
   "outputs": [],
   "source": [
    "model3 = Word2Vec(sentences=corpus3, sg = 1, window=8, min_count=1, workers=8, seed = 42)"
   ]
  },
  {
   "cell_type": "code",
   "execution_count": 124,
   "id": "8517019b-5285-40b9-b415-17ceaa1fd26f",
   "metadata": {},
   "outputs": [],
   "source": [
    "# saving model\n",
    "#pickle.dump(model3, open('Trained_Word2Vec_Model3.pkl', 'wb'))"
   ]
  },
  {
   "cell_type": "code",
   "execution_count": 125,
   "id": "acae0819-7144-4bce-8fff-b3ae5c3447cc",
   "metadata": {},
   "outputs": [],
   "source": [
    "mev_model3 = MeanEmbeddingVectorizer(model3)"
   ]
  },
  {
   "cell_type": "code",
   "execution_count": 126,
   "id": "79b9f957-1d4f-4eb5-afaf-fec2a3a4159b",
   "metadata": {},
   "outputs": [
    {
     "data": {
      "text/plain": [
       "500000"
      ]
     },
     "execution_count": 126,
     "metadata": {},
     "output_type": "execute_result"
    }
   ],
   "source": [
    "recipes3 = mev_model3.transform(corpus3)\n",
    "recipes3 = [recipe.reshape(1, -1) for recipe in recipes3]\n",
    "len(recipes3)"
   ]
  },
  {
   "cell_type": "code",
   "execution_count": 127,
   "id": "123c4e61-503a-459b-a6b4-7c48b91c05df",
   "metadata": {},
   "outputs": [],
   "source": [
    "#Saving trained recipes\n",
    "#pickle.dump(recipes3, open('Trained_Recipes3.pkl', 'wb'))"
   ]
  }
 ],
 "metadata": {
  "kernelspec": {
   "display_name": "Python 3",
   "language": "python",
   "name": "python3"
  },
  "language_info": {
   "codemirror_mode": {
    "name": "ipython",
    "version": 3
   },
   "file_extension": ".py",
   "mimetype": "text/x-python",
   "name": "python",
   "nbconvert_exporter": "python",
   "pygments_lexer": "ipython3",
   "version": "3.8.8"
  }
 },
 "nbformat": 4,
 "nbformat_minor": 5
}
