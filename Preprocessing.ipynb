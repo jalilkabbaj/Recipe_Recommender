{
 "cells": [
  {
   "cell_type": "markdown",
   "id": "cfd0321d-3574-4c1c-b6ce-53483b2ccb17",
   "metadata": {},
   "source": [
    "# Part 1: Cleaning the Data"
   ]
  },
  {
   "cell_type": "code",
   "execution_count": 1,
   "id": "a2637dca-88f0-4435-bd7b-dde826d36bac",
   "metadata": {},
   "outputs": [],
   "source": [
    "import pandas as pd"
   ]
  },
  {
   "cell_type": "markdown",
   "id": "f39dfbac-391b-49c0-9733-41ff6553b205",
   "metadata": {},
   "source": [
    "##### Looking at the data: \n"
   ]
  },
  {
   "cell_type": "code",
   "execution_count": 2,
   "id": "049adb02-5267-4691-999d-8319333e302c",
   "metadata": {},
   "outputs": [],
   "source": [
    "df = pd.read_csv('./Data/RecipeNLG_dataset.csv')"
   ]
  },
  {
   "cell_type": "code",
   "execution_count": 3,
   "id": "0bb8356c-0a63-4ce8-8fcb-9374f7ebe115",
   "metadata": {},
   "outputs": [
    {
     "data": {
      "text/html": [
       "<div>\n",
       "<style scoped>\n",
       "    .dataframe tbody tr th:only-of-type {\n",
       "        vertical-align: middle;\n",
       "    }\n",
       "\n",
       "    .dataframe tbody tr th {\n",
       "        vertical-align: top;\n",
       "    }\n",
       "\n",
       "    .dataframe thead th {\n",
       "        text-align: right;\n",
       "    }\n",
       "</style>\n",
       "<table border=\"1\" class=\"dataframe\">\n",
       "  <thead>\n",
       "    <tr style=\"text-align: right;\">\n",
       "      <th></th>\n",
       "      <th>Unnamed: 0</th>\n",
       "      <th>title</th>\n",
       "      <th>ingredients</th>\n",
       "      <th>directions</th>\n",
       "      <th>link</th>\n",
       "      <th>source</th>\n",
       "      <th>NER</th>\n",
       "    </tr>\n",
       "  </thead>\n",
       "  <tbody>\n",
       "    <tr>\n",
       "      <th>0</th>\n",
       "      <td>0</td>\n",
       "      <td>No-Bake Nut Cookies</td>\n",
       "      <td>[\"1 c. firmly packed brown sugar\", \"1/2 c. eva...</td>\n",
       "      <td>[\"In a heavy 2-quart saucepan, mix brown sugar...</td>\n",
       "      <td>www.cookbooks.com/Recipe-Details.aspx?id=44874</td>\n",
       "      <td>Gathered</td>\n",
       "      <td>[\"brown sugar\", \"milk\", \"vanilla\", \"nuts\", \"bu...</td>\n",
       "    </tr>\n",
       "    <tr>\n",
       "      <th>1</th>\n",
       "      <td>1</td>\n",
       "      <td>Jewell Ball'S Chicken</td>\n",
       "      <td>[\"1 small jar chipped beef, cut up\", \"4 boned ...</td>\n",
       "      <td>[\"Place chipped beef on bottom of baking dish....</td>\n",
       "      <td>www.cookbooks.com/Recipe-Details.aspx?id=699419</td>\n",
       "      <td>Gathered</td>\n",
       "      <td>[\"beef\", \"chicken breasts\", \"cream of mushroom...</td>\n",
       "    </tr>\n",
       "    <tr>\n",
       "      <th>2</th>\n",
       "      <td>2</td>\n",
       "      <td>Creamy Corn</td>\n",
       "      <td>[\"2 (16 oz.) pkg. frozen corn\", \"1 (8 oz.) pkg...</td>\n",
       "      <td>[\"In a slow cooker, combine all ingredients. C...</td>\n",
       "      <td>www.cookbooks.com/Recipe-Details.aspx?id=10570</td>\n",
       "      <td>Gathered</td>\n",
       "      <td>[\"frozen corn\", \"cream cheese\", \"butter\", \"gar...</td>\n",
       "    </tr>\n",
       "    <tr>\n",
       "      <th>3</th>\n",
       "      <td>3</td>\n",
       "      <td>Chicken Funny</td>\n",
       "      <td>[\"1 large whole chicken\", \"2 (10 1/2 oz.) cans...</td>\n",
       "      <td>[\"Boil and debone chicken.\", \"Put bite size pi...</td>\n",
       "      <td>www.cookbooks.com/Recipe-Details.aspx?id=897570</td>\n",
       "      <td>Gathered</td>\n",
       "      <td>[\"chicken\", \"chicken gravy\", \"cream of mushroo...</td>\n",
       "    </tr>\n",
       "    <tr>\n",
       "      <th>4</th>\n",
       "      <td>4</td>\n",
       "      <td>Reeses Cups(Candy)</td>\n",
       "      <td>[\"1 c. peanut butter\", \"3/4 c. graham cracker ...</td>\n",
       "      <td>[\"Combine first four ingredients and press in ...</td>\n",
       "      <td>www.cookbooks.com/Recipe-Details.aspx?id=659239</td>\n",
       "      <td>Gathered</td>\n",
       "      <td>[\"peanut butter\", \"graham cracker crumbs\", \"bu...</td>\n",
       "    </tr>\n",
       "    <tr>\n",
       "      <th>...</th>\n",
       "      <td>...</td>\n",
       "      <td>...</td>\n",
       "      <td>...</td>\n",
       "      <td>...</td>\n",
       "      <td>...</td>\n",
       "      <td>...</td>\n",
       "      <td>...</td>\n",
       "    </tr>\n",
       "    <tr>\n",
       "      <th>2231137</th>\n",
       "      <td>2231137</td>\n",
       "      <td>Sunny's Fake Crepes</td>\n",
       "      <td>[\"1/2 cup chocolate hazelnut spread (recommend...</td>\n",
       "      <td>[\"Spread hazelnut spread on 1 side of each tor...</td>\n",
       "      <td>www.foodnetwork.com/recipes/sunny-anderson/sun...</td>\n",
       "      <td>Recipes1M</td>\n",
       "      <td>[\"chocolate hazelnut spread\", \"tortillas\", \"bu...</td>\n",
       "    </tr>\n",
       "    <tr>\n",
       "      <th>2231138</th>\n",
       "      <td>2231138</td>\n",
       "      <td>Devil Eggs</td>\n",
       "      <td>[\"1 dozen eggs\", \"1 paprika\", \"1 salt and pepp...</td>\n",
       "      <td>[\"Boil eggs on medium for 30mins.\", \"Then cool...</td>\n",
       "      <td>cookpad.com/us/recipes/355411-devil-eggs</td>\n",
       "      <td>Recipes1M</td>\n",
       "      <td>[\"eggs\", \"paprika\", \"salt\", \"choice\", \"miracle...</td>\n",
       "    </tr>\n",
       "    <tr>\n",
       "      <th>2231139</th>\n",
       "      <td>2231139</td>\n",
       "      <td>Extremely Easy and Quick - Namul Daikon Salad</td>\n",
       "      <td>[\"150 grams Daikon radish\", \"1 tbsp Sesame oil...</td>\n",
       "      <td>[\"Julienne the daikon and squeeze out the exce...</td>\n",
       "      <td>cookpad.com/us/recipes/153324-extremely-easy-a...</td>\n",
       "      <td>Recipes1M</td>\n",
       "      <td>[\"radish\", \"Sesame oil\", \"White sesame seeds\",...</td>\n",
       "    </tr>\n",
       "    <tr>\n",
       "      <th>2231140</th>\n",
       "      <td>2231140</td>\n",
       "      <td>Pan-Roasted Pork Chops With Apple Fritters</td>\n",
       "      <td>[\"1 cup apple cider\", \"6 tablespoons sugar\", \"...</td>\n",
       "      <td>[\"In a large bowl, mix the apple cider with 4 ...</td>\n",
       "      <td>cooking.nytimes.com/recipes/1015164</td>\n",
       "      <td>Recipes1M</td>\n",
       "      <td>[\"apple cider\", \"sugar\", \"kosher salt\", \"bay l...</td>\n",
       "    </tr>\n",
       "    <tr>\n",
       "      <th>2231141</th>\n",
       "      <td>2231141</td>\n",
       "      <td>Polpette in Spicy Tomato Sauce</td>\n",
       "      <td>[\"1 pound ground veal\", \"1/2 pound sweet Itali...</td>\n",
       "      <td>[\"Preheat the oven to 350.\", \"In a bowl, mix t...</td>\n",
       "      <td>www.foodandwine.com/recipes/polpette-spicy-tom...</td>\n",
       "      <td>Recipes1M</td>\n",
       "      <td>[\"ground veal\", \"sausage\", \"bread crumbs\", \"mi...</td>\n",
       "    </tr>\n",
       "  </tbody>\n",
       "</table>\n",
       "<p>2231142 rows × 7 columns</p>\n",
       "</div>"
      ],
      "text/plain": [
       "         Unnamed: 0                                          title  \\\n",
       "0                 0                            No-Bake Nut Cookies   \n",
       "1                 1                          Jewell Ball'S Chicken   \n",
       "2                 2                                    Creamy Corn   \n",
       "3                 3                                  Chicken Funny   \n",
       "4                 4                           Reeses Cups(Candy)     \n",
       "...             ...                                            ...   \n",
       "2231137     2231137                            Sunny's Fake Crepes   \n",
       "2231138     2231138                                     Devil Eggs   \n",
       "2231139     2231139  Extremely Easy and Quick - Namul Daikon Salad   \n",
       "2231140     2231140     Pan-Roasted Pork Chops With Apple Fritters   \n",
       "2231141     2231141                 Polpette in Spicy Tomato Sauce   \n",
       "\n",
       "                                               ingredients  \\\n",
       "0        [\"1 c. firmly packed brown sugar\", \"1/2 c. eva...   \n",
       "1        [\"1 small jar chipped beef, cut up\", \"4 boned ...   \n",
       "2        [\"2 (16 oz.) pkg. frozen corn\", \"1 (8 oz.) pkg...   \n",
       "3        [\"1 large whole chicken\", \"2 (10 1/2 oz.) cans...   \n",
       "4        [\"1 c. peanut butter\", \"3/4 c. graham cracker ...   \n",
       "...                                                    ...   \n",
       "2231137  [\"1/2 cup chocolate hazelnut spread (recommend...   \n",
       "2231138  [\"1 dozen eggs\", \"1 paprika\", \"1 salt and pepp...   \n",
       "2231139  [\"150 grams Daikon radish\", \"1 tbsp Sesame oil...   \n",
       "2231140  [\"1 cup apple cider\", \"6 tablespoons sugar\", \"...   \n",
       "2231141  [\"1 pound ground veal\", \"1/2 pound sweet Itali...   \n",
       "\n",
       "                                                directions  \\\n",
       "0        [\"In a heavy 2-quart saucepan, mix brown sugar...   \n",
       "1        [\"Place chipped beef on bottom of baking dish....   \n",
       "2        [\"In a slow cooker, combine all ingredients. C...   \n",
       "3        [\"Boil and debone chicken.\", \"Put bite size pi...   \n",
       "4        [\"Combine first four ingredients and press in ...   \n",
       "...                                                    ...   \n",
       "2231137  [\"Spread hazelnut spread on 1 side of each tor...   \n",
       "2231138  [\"Boil eggs on medium for 30mins.\", \"Then cool...   \n",
       "2231139  [\"Julienne the daikon and squeeze out the exce...   \n",
       "2231140  [\"In a large bowl, mix the apple cider with 4 ...   \n",
       "2231141  [\"Preheat the oven to 350.\", \"In a bowl, mix t...   \n",
       "\n",
       "                                                      link     source  \\\n",
       "0           www.cookbooks.com/Recipe-Details.aspx?id=44874   Gathered   \n",
       "1          www.cookbooks.com/Recipe-Details.aspx?id=699419   Gathered   \n",
       "2           www.cookbooks.com/Recipe-Details.aspx?id=10570   Gathered   \n",
       "3          www.cookbooks.com/Recipe-Details.aspx?id=897570   Gathered   \n",
       "4          www.cookbooks.com/Recipe-Details.aspx?id=659239   Gathered   \n",
       "...                                                    ...        ...   \n",
       "2231137  www.foodnetwork.com/recipes/sunny-anderson/sun...  Recipes1M   \n",
       "2231138           cookpad.com/us/recipes/355411-devil-eggs  Recipes1M   \n",
       "2231139  cookpad.com/us/recipes/153324-extremely-easy-a...  Recipes1M   \n",
       "2231140                cooking.nytimes.com/recipes/1015164  Recipes1M   \n",
       "2231141  www.foodandwine.com/recipes/polpette-spicy-tom...  Recipes1M   \n",
       "\n",
       "                                                       NER  \n",
       "0        [\"brown sugar\", \"milk\", \"vanilla\", \"nuts\", \"bu...  \n",
       "1        [\"beef\", \"chicken breasts\", \"cream of mushroom...  \n",
       "2        [\"frozen corn\", \"cream cheese\", \"butter\", \"gar...  \n",
       "3        [\"chicken\", \"chicken gravy\", \"cream of mushroo...  \n",
       "4        [\"peanut butter\", \"graham cracker crumbs\", \"bu...  \n",
       "...                                                    ...  \n",
       "2231137  [\"chocolate hazelnut spread\", \"tortillas\", \"bu...  \n",
       "2231138  [\"eggs\", \"paprika\", \"salt\", \"choice\", \"miracle...  \n",
       "2231139  [\"radish\", \"Sesame oil\", \"White sesame seeds\",...  \n",
       "2231140  [\"apple cider\", \"sugar\", \"kosher salt\", \"bay l...  \n",
       "2231141  [\"ground veal\", \"sausage\", \"bread crumbs\", \"mi...  \n",
       "\n",
       "[2231142 rows x 7 columns]"
      ]
     },
     "execution_count": 3,
     "metadata": {},
     "output_type": "execute_result"
    }
   ],
   "source": [
    "df"
   ]
  },
  {
   "cell_type": "markdown",
   "id": "62c5be2d-10b7-4b47-8c82-a90363f0414f",
   "metadata": {},
   "source": [
    "##### Annotation:\n",
    "Looking at the data above we are able to see the size of the data. The data frame is composed of 2,231,142 rows × 7 columns. The good thing about this data set is that it contains a column with only the simple ingredients. With that said the columns contains ingredients and directions appear to be in lists. That will have to be changed if we want to use count/tfidf vectorizer and Word2Vec."
   ]
  },
  {
   "cell_type": "code",
   "execution_count": 3,
   "id": "ba51f023-bcbc-4237-a938-aecae8da3e64",
   "metadata": {},
   "outputs": [],
   "source": [
    "df.drop(columns = ['Unnamed: 0','source'],inplace = True)\n",
    "\n",
    "df.drop(columns = ['ingredients'],inplace = True)"
   ]
  },
  {
   "cell_type": "code",
   "execution_count": 4,
   "id": "7125577b-3cf0-490e-bc0c-63ae15683879",
   "metadata": {},
   "outputs": [],
   "source": [
    "df.rename(columns = {'NER': 'raw_ingredients'},inplace= True)"
   ]
  },
  {
   "cell_type": "code",
   "execution_count": 5,
   "id": "1554a41c-104c-40e7-ac2a-960db13cb13c",
   "metadata": {},
   "outputs": [],
   "source": [
    "df = df[['title','raw_ingredients','directions','link']]"
   ]
  },
  {
   "cell_type": "code",
   "execution_count": 6,
   "id": "73766630-063a-4f3a-8a4e-8e5b6626955c",
   "metadata": {
    "tags": []
   },
   "outputs": [],
   "source": [
    "#df.to_csv('reduced_recipe_data.csv')"
   ]
  },
  {
   "cell_type": "markdown",
   "id": "49cb43d9-f4c4-4750-b62f-ec1e04d7c028",
   "metadata": {},
   "source": [
    "##### Annotation:\n",
    "Unnecessary columns have been dropped and the name for the previous column NER has been changed to raw_ingredients. Moreover the order of the columns was changed and the csv file was exported. Due to my limited computational power and the large nature of the data frame, my kernel died very often so I made sure to export csv files frequently during the cleaning."
   ]
  },
  {
   "cell_type": "code",
   "execution_count": 2,
   "id": "af4c94a7-25ea-421e-bafc-34c7d5edc78b",
   "metadata": {},
   "outputs": [
    {
     "name": "stderr",
     "output_type": "stream",
     "text": [
      "/Users/ajk/opt/anaconda3/lib/python3.8/site-packages/numpy/lib/arraysetops.py:583: FutureWarning: elementwise comparison failed; returning scalar instead, but in the future will perform elementwise comparison\n",
      "  mask |= (ar1 == a)\n"
     ]
    }
   ],
   "source": [
    "#Kernel dies read new smaller csv\n",
    "df = pd.read_csv('reduced_recipe_data.csv',index_col=0)"
   ]
  },
  {
   "cell_type": "code",
   "execution_count": 3,
   "id": "202ef6aa-6b23-463f-b0fb-14c6778a0af6",
   "metadata": {},
   "outputs": [],
   "source": [
    "new_list = []\n",
    "for word in df['raw_ingredients']:\n",
    "    new_list.append([x.strip('\\\"') for x in word.strip(\"[ ]\").split(\", \")])\n",
    "\n",
    "df.loc[:,'raw_ingredients'] = new_list\n",
    "\n",
    "df.loc[:,'raw_ingredients'] = [', '.join(i) for i in df['raw_ingredients']]"
   ]
  },
  {
   "cell_type": "code",
   "execution_count": 8,
   "id": "cd9dcae0-4172-46b4-bbdc-e502c343d95d",
   "metadata": {},
   "outputs": [],
   "source": [
    "#df.to_csv('reduced_recipe_data_2.csv')"
   ]
  },
  {
   "cell_type": "code",
   "execution_count": 4,
   "id": "6ecdb18a-241f-4b73-8e95-bb35bf4a5766",
   "metadata": {},
   "outputs": [
    {
     "name": "stderr",
     "output_type": "stream",
     "text": [
      "/Users/ajk/opt/anaconda3/lib/python3.8/site-packages/numpy/lib/arraysetops.py:583: FutureWarning: elementwise comparison failed; returning scalar instead, but in the future will perform elementwise comparison\n",
      "  mask |= (ar1 == a)\n"
     ]
    }
   ],
   "source": [
    "#Kernel dies read new csv\n",
    "df = pd.read_csv('reduced_recipe_data_2.csv',index_col=0)"
   ]
  },
  {
   "cell_type": "code",
   "execution_count": 5,
   "id": "eb0b2bd3-3655-42de-89a7-c3e2e13325f7",
   "metadata": {},
   "outputs": [],
   "source": [
    "new_list_2 = []\n",
    "for word in df['directions']:\n",
    "    new_list_2.append([x.strip('\\\"') for x in word.strip(\"[ ]\").split(\", \")])\n",
    "\n",
    "df.loc[:,'directions'] = new_list_2\n",
    "\n",
    "df.loc[:,'directions'] = [', '.join(i) for i in df['directions']]"
   ]
  },
  {
   "cell_type": "code",
   "execution_count": 9,
   "id": "c8e75fc4-db58-405e-86d8-21a9d6916ba2",
   "metadata": {},
   "outputs": [],
   "source": [
    "#df.to_csv('reduced_recipe_data_3.csv')"
   ]
  },
  {
   "cell_type": "markdown",
   "id": "44ac6808-aad6-44df-a463-9dbfa2222da3",
   "metadata": {},
   "source": [
    "##### Annotation:\n",
    "What I did was remove ingredients from a list format and turned it into a more casual string input format which is more aesthetically appealing. Doing so will enable me to conduct count and tfidf vectorization. This was done for both the raw_ingredients column and the direction."
   ]
  },
  {
   "cell_type": "code",
   "execution_count": 6,
   "id": "6fee835f-c5fa-4268-9000-a554bba91435",
   "metadata": {},
   "outputs": [],
   "source": [
    "#Lets reduce the csv file to half its size, about 1.1 million recipes in case the csv becomes to big for modelling\n",
    "df_half = df[0:1100000]"
   ]
  },
  {
   "cell_type": "code",
   "execution_count": 8,
   "id": "b70f5ea0-bc79-4995-9e52-180bd5dd1963",
   "metadata": {},
   "outputs": [
    {
     "name": "stderr",
     "output_type": "stream",
     "text": [
      "<ipython-input-8-a49d4bc7fc33>:1: SettingWithCopyWarning: \n",
      "A value is trying to be set on a copy of a slice from a DataFrame\n",
      "\n",
      "See the caveats in the documentation: https://pandas.pydata.org/pandas-docs/stable/user_guide/indexing.html#returning-a-view-versus-a-copy\n",
      "  df_half.dropna(inplace = True)\n"
     ]
    }
   ],
   "source": [
    "df_half.dropna(inplace = True)"
   ]
  },
  {
   "cell_type": "code",
   "execution_count": 9,
   "id": "3b905be6-dd6a-42a5-86e5-d3b0e2e8e223",
   "metadata": {},
   "outputs": [
    {
     "name": "stderr",
     "output_type": "stream",
     "text": [
      "<ipython-input-9-6ee3df3f809c>:2: SettingWithCopyWarning: \n",
      "A value is trying to be set on a copy of a slice from a DataFrame.\n",
      "Try using .loc[row_indexer,col_indexer] = value instead\n",
      "\n",
      "See the caveats in the documentation: https://pandas.pydata.org/pandas-docs/stable/user_guide/indexing.html#returning-a-view-versus-a-copy\n",
      "  df_half['raw_ingredients'] = df_half['raw_ingredients'].str.lower()\n"
     ]
    }
   ],
   "source": [
    "#Making sure all characters are lower case\n",
    "df_half['raw_ingredients'] = df_half['raw_ingredients'].str.lower()"
   ]
  },
  {
   "cell_type": "code",
   "execution_count": 10,
   "id": "379526b9-7c1b-4940-a8e2-ceebd7c2d09e",
   "metadata": {},
   "outputs": [],
   "source": [
    "from nltk.stem import WordNetLemmatizer \n",
    "import nltk"
   ]
  },
  {
   "cell_type": "code",
   "execution_count": 11,
   "id": "0c590cef-a178-470c-8dcb-dd5610d0d7ee",
   "metadata": {},
   "outputs": [],
   "source": [
    "lemmatizer = WordNetLemmatizer()"
   ]
  },
  {
   "cell_type": "code",
   "execution_count": 12,
   "id": "debacf63-1eeb-466e-a548-1ef9fdfb4d84",
   "metadata": {},
   "outputs": [],
   "source": [
    "word_remover = ['finely','chopped','small','and','to','medium','diced','fresh','serving','sliced','extra-virgin',\n",
    "                'cherry', 'grape','refrigerated','peeled', 'diced','cooked','or to taste','skinless','boneless',\n",
    "                'halves','slices','shredded','semisweet','unsweetened','melted','room temperature','pound',\n",
    "                'fluid','optional','minced','cloves','divided','degrees','half','fryer','red','white', 'piece','meat',\n",
    "                'thigh','tender','grated','processed','catsup','choc','of','confectioner','semi-sweet','all-purpose',\n",
    "                'kidney','paste','sharp','food','weed','miracle','nonfat','low-fat','style','english','uncle','ben',\n",
    "                'your','pack','handful','leftover','additional','unpeeled','nonstick','pan','jar','fried','medal',\n",
    "                'healthy','well','armour','love','for','you','without','any','understanding','made','several','xxxx',\n",
    "                'stir-fry','uncooked','including','tenderness','fry','tsp']\n",
    "word_remover = [lemmatizer.lemmatize(w) for w in word_remover]"
   ]
  },
  {
   "cell_type": "code",
   "execution_count": 13,
   "id": "5bff521b-5c87-4a2c-a5ef-2040635376d3",
   "metadata": {
    "tags": []
   },
   "outputs": [],
   "source": [
    "def lemmatize_text(text):\n",
    "\n",
    "    return ' '.join([lemmatizer.lemmatize(w) for w in nltk.word_tokenize(text)]).replace(\" ,\",\",\")\n"
   ]
  },
  {
   "cell_type": "code",
   "execution_count": 15,
   "id": "ef8d7568-5334-4dd2-aaec-d10f6f391559",
   "metadata": {
    "tags": []
   },
   "outputs": [
    {
     "name": "stderr",
     "output_type": "stream",
     "text": [
      "<ipython-input-15-c8de9c43335b>:1: SettingWithCopyWarning: \n",
      "A value is trying to be set on a copy of a slice from a DataFrame.\n",
      "Try using .loc[row_indexer,col_indexer] = value instead\n",
      "\n",
      "See the caveats in the documentation: https://pandas.pydata.org/pandas-docs/stable/user_guide/indexing.html#returning-a-view-versus-a-copy\n",
      "  df_half['raw_ingredients'] = df_half['raw_ingredients'].apply(lemmatize_text)\n"
     ]
    }
   ],
   "source": [
    "df_half['raw_ingredients'] = df_half['raw_ingredients'].apply(lemmatize_text)"
   ]
  },
  {
   "cell_type": "code",
   "execution_count": 16,
   "id": "1cabf400-d6ca-4f7a-bf9f-329d21f99788",
   "metadata": {},
   "outputs": [
    {
     "name": "stderr",
     "output_type": "stream",
     "text": [
      "<ipython-input-16-67404f93843a>:2: FutureWarning: The default value of regex will change from True to False in a future version.\n",
      "  df_half['raw_ingredients'] = df_half['raw_ingredients'].str.replace(pat, '')\n",
      "<ipython-input-16-67404f93843a>:2: SettingWithCopyWarning: \n",
      "A value is trying to be set on a copy of a slice from a DataFrame.\n",
      "Try using .loc[row_indexer,col_indexer] = value instead\n",
      "\n",
      "See the caveats in the documentation: https://pandas.pydata.org/pandas-docs/stable/user_guide/indexing.html#returning-a-view-versus-a-copy\n",
      "  df_half['raw_ingredients'] = df_half['raw_ingredients'].str.replace(pat, '')\n"
     ]
    }
   ],
   "source": [
    "pat = r'\\b(?:{})\\b'.format('|'.join(word_remover))\n",
    "df_half['raw_ingredients'] = df_half['raw_ingredients'].str.replace(pat, '')"
   ]
  },
  {
   "cell_type": "code",
   "execution_count": 35,
   "id": "d6e4d55b-1164-43f7-ab4b-4474583ba6ea",
   "metadata": {},
   "outputs": [],
   "source": [
    "#df_half.to_csv('reduced_by_half_recipe_data2.csv')"
   ]
  },
  {
   "cell_type": "markdown",
   "id": "28b9245d-d3c2-42cf-9ac5-884d4efc69ef",
   "metadata": {},
   "source": [
    "##### Annotation:\n",
    "The next step I took was reduce the data by half, creating a data frame composed of a little over 1 million recipes. Later along the investigation, I realized that having 2 million recipes was slowing my model juristically, therefore reducing it by half was a great idea. I came back to this part of the notebook and conducted further cleaning. I explored the ingredient’s column and targeted words that were unnecessary and might not help during modeling. Most of these words were verbs such as chopped, diced, and sliced. These words are not necessary so I added them to the word_remover list. Next I added words that would describe the state of the ingredients such as freshly, melted, and unpeeled. I then lemmatized and lower cased all the ingredients. Finally I lemmatized the content of word_remover and removed all the words from the raw_ingredients column."
   ]
  }
 ],
 "metadata": {
  "kernelspec": {
   "display_name": "Python 3",
   "language": "python",
   "name": "python3"
  },
  "language_info": {
   "codemirror_mode": {
    "name": "ipython",
    "version": 3
   },
   "file_extension": ".py",
   "mimetype": "text/x-python",
   "name": "python",
   "nbconvert_exporter": "python",
   "pygments_lexer": "ipython3",
   "version": "3.8.8"
  }
 },
 "nbformat": 4,
 "nbformat_minor": 5
}
